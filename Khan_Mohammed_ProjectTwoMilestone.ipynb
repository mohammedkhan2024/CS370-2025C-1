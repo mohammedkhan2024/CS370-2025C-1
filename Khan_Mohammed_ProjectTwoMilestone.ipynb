{
 "cells": [
  {
   "cell_type": "markdown",
   "metadata": {},
   "source": [
    "# Treasure Hunt Game Notebook\n",
    "\n",
    "## Read and Review Your Starter Code\n",
    "The theme of this project is a popular treasure hunt game in which the player needs to find the treasure before the pirate does. While you will not be developing the entire game, you will write the part of the game that represents the intelligent agent, which is a pirate in this case. The pirate will try to find the optimal path to the treasure using deep Q-learning. \n",
    "\n",
    "You have been provided with two Python classes and this notebook to help you with this assignment. The first class, TreasureMaze.py, represents the environment, which includes a maze object defined as a matrix. The second class, GameExperience.py, stores the episodes – that is, all the states that come in between the initial state and the terminal state. This is later used by the agent for learning by experience, called \"exploration\". This notebook shows how to play a game. Your task is to complete the deep Q-learning implementation for which a skeleton implementation has been provided. The code blocks you will need to complete has #TODO as a header.\n",
    "\n",
    "First, read and review the next few code and instruction blocks to understand the code that you have been given."
   ]
  },
  {
   "cell_type": "code",
   "execution_count": 1,
   "metadata": {},
   "outputs": [
    {
     "name": "stderr",
     "output_type": "stream",
     "text": [
      "Using TensorFlow backend.\n"
     ]
    }
   ],
   "source": [
    "from __future__ import print_function\n",
    "import os, sys, time, datetime, json, random\n",
    "import numpy as np\n",
    "from keras.models import Sequential\n",
    "from keras.layers.core import Dense, Activation\n",
    "from keras.optimizers import SGD , Adam, RMSprop\n",
    "from keras.layers.advanced_activations import PReLU\n",
    "import matplotlib.pyplot as plt\n",
    "from TreasureMaze import TreasureMaze\n",
    "from GameExperience import GameExperience\n",
    "%matplotlib inline"
   ]
  },
  {
   "cell_type": "markdown",
   "metadata": {},
   "source": [
    "The following code block contains an 8x8 matrix that will be used as a maze object:"
   ]
  },
  {
   "cell_type": "code",
   "execution_count": 2,
   "metadata": {},
   "outputs": [],
   "source": [
    "maze = np.array([\n",
    "    [ 1.,  0.,  1.,  1.,  1.,  1.,  1.,  1.],\n",
    "    [ 1.,  0.,  1.,  1.,  1.,  0.,  1.,  1.],\n",
    "    [ 1.,  1.,  1.,  1.,  0.,  1.,  0.,  1.],\n",
    "    [ 1.,  1.,  1.,  0.,  1.,  1.,  1.,  1.],\n",
    "    [ 1.,  1.,  0.,  1.,  1.,  1.,  1.,  1.],\n",
    "    [ 1.,  1.,  1.,  0.,  1.,  0.,  0.,  0.],\n",
    "    [ 1.,  1.,  1.,  0.,  1.,  1.,  1.,  1.],\n",
    "    [ 1.,  1.,  1.,  1.,  0.,  1.,  1.,  1.]\n",
    "])"
   ]
  },
  {
   "cell_type": "markdown",
   "metadata": {},
   "source": [
    "This helper function allows a visual representation of the maze object:"
   ]
  },
  {
   "cell_type": "code",
   "execution_count": 3,
   "metadata": {},
   "outputs": [],
   "source": [
    "def show(qmaze):\n",
    "    plt.grid('on')\n",
    "    nrows, ncols = qmaze.maze.shape\n",
    "    ax = plt.gca()\n",
    "    ax.set_xticks(np.arange(0.5, nrows, 1))\n",
    "    ax.set_yticks(np.arange(0.5, ncols, 1))\n",
    "    ax.set_xticklabels([])\n",
    "    ax.set_yticklabels([])\n",
    "    canvas = np.copy(qmaze.maze)\n",
    "    for row,col in qmaze.visited:\n",
    "        canvas[row,col] = 0.6\n",
    "    pirate_row, pirate_col, _ = qmaze.state\n",
    "    canvas[pirate_row, pirate_col] = 0.3   # pirate cell\n",
    "    canvas[nrows-1, ncols-1] = 0.9 # treasure cell\n",
    "    img = plt.imshow(canvas, interpolation='none', cmap='gray')\n",
    "    return img"
   ]
  },
  {
   "cell_type": "markdown",
   "metadata": {},
   "source": [
    "The pirate agent can move in four directions: left, right, up, and down. \n",
    "\n",
    "While the agent primarily learns by experience through exploitation, often, the agent can choose to explore the environment to find previously undiscovered paths. This is called \"exploration\" and is defined by epsilon. This value is typically a lower value such as 0.1, which means for every ten attempts, the agent will attempt to learn by experience nine times and will randomly explore a new path one time. You are encouraged to try various values for the exploration factor and see how the algorithm performs."
   ]
  },
  {
   "cell_type": "code",
   "execution_count": 4,
   "metadata": {},
   "outputs": [],
   "source": [
    "LEFT = 0\n",
    "UP = 1\n",
    "RIGHT = 2\n",
    "DOWN = 3\n",
    "\n",
    "\n",
    "# Exploration factor\n",
    "epsilon = 0.1\n",
    "\n",
    "# Actions dictionary\n",
    "actions_dict = {\n",
    "    LEFT: 'left',\n",
    "    UP: 'up',\n",
    "    RIGHT: 'right',\n",
    "    DOWN: 'down',\n",
    "}\n",
    "\n",
    "num_actions = len(actions_dict)\n"
   ]
  },
  {
   "cell_type": "markdown",
   "metadata": {},
   "source": [
    "The sample code block and output below show creating a maze object and performing one action (DOWN), which returns the reward. The resulting updated environment is visualized."
   ]
  },
  {
   "cell_type": "code",
   "execution_count": null,
   "metadata": {},
   "outputs": [],
   "source": [
    "qmaze = TreasureMaze(maze)\n",
    "canvas, reward, game_over = qmaze.act(DOWN)\n",
    "print(\"reward=\", reward)\n",
    "show(qmaze)"
   ]
  },
  {
   "cell_type": "markdown",
   "metadata": {},
   "source": [
    "This function simulates a full game based on the provided trained model. The other parameters include the TreasureMaze object and the starting position of the pirate."
   ]
  },
  {
   "cell_type": "code",
   "execution_count": 5,
   "metadata": {},
   "outputs": [],
   "source": [
    "def play_game(model, qmaze, pirate_cell):\n",
    "    qmaze.reset(pirate_cell)\n",
    "    envstate = qmaze.observe()\n",
    "    while True:\n",
    "        prev_envstate = envstate\n",
    "        # get next action\n",
    "        q = model.predict(prev_envstate)\n",
    "        action = np.argmax(q[0])\n",
    "\n",
    "        # apply action, get rewards and new state\n",
    "        envstate, reward, game_status = qmaze.act(action)\n",
    "        if game_status == 'win':\n",
    "            return True\n",
    "        elif game_status == 'lose':\n",
    "            return False"
   ]
  },
  {
   "cell_type": "markdown",
   "metadata": {},
   "source": [
    "This function helps you to determine whether the pirate can win any game at all. If your maze is not well designed, the pirate may not win any game at all. In this case, your training would not yield any result. The provided maze in this notebook ensures that there is a path to win and you can run this method to check."
   ]
  },
  {
   "cell_type": "code",
   "execution_count": 6,
   "metadata": {},
   "outputs": [],
   "source": [
    "def completion_check(model, qmaze):\n",
    "    for cell in qmaze.free_cells:\n",
    "        if not qmaze.valid_actions(cell):\n",
    "            return False\n",
    "        if not play_game(model, qmaze, cell):\n",
    "            return False\n",
    "    return True"
   ]
  },
  {
   "cell_type": "markdown",
   "metadata": {},
   "source": [
    "The code you have been given in this block will build the neural network model. Review the code and note the number of layers, as well as the activation, optimizer, and loss functions that are used to train the model."
   ]
  },
  {
   "cell_type": "code",
   "execution_count": 7,
   "metadata": {},
   "outputs": [],
   "source": [
    "def build_model(maze):\n",
    "    model = Sequential()\n",
    "    model.add(Dense(maze.size, input_shape=(maze.size,)))\n",
    "    model.add(PReLU())\n",
    "    model.add(Dense(maze.size))\n",
    "    model.add(PReLU())\n",
    "    model.add(Dense(num_actions))\n",
    "    model.compile(optimizer='adam', loss='mse')\n",
    "    return model"
   ]
  },
  {
   "cell_type": "markdown",
   "metadata": {},
   "source": [
    "# #TODO: Complete the Q-Training Algorithm Code Block\n",
    "\n",
    "This is your deep Q-learning implementation. The goal of your deep Q-learning implementation is to find the best possible navigation sequence that results in reaching the treasure cell while maximizing the reward. In your implementation, you need to determine the optimal number of epochs to achieve a 100% win rate.\n",
    "\n",
    "You will need to complete the section starting with #pseudocode. The pseudocode has been included for you."
   ]
  },
  {
   "cell_type": "code",
   "execution_count": 11,
   "metadata": {},
   "outputs": [],
   "source": [
    "def qtrain(model, maze, **opt):\n",
    "\n",
    "    # exploration factor\n",
    "    global epsilon \n",
    "\n",
    "    # number of epochs\n",
    "    n_epoch = opt.get('n_epoch', 15000)\n",
    "\n",
    "    # maximum memory to store episodes\n",
    "    max_memory = opt.get('max_memory', 1000)\n",
    "\n",
    "    # maximum data size for training\n",
    "    data_size = opt.get('data_size', 50)\n",
    "\n",
    "    # start time\n",
    "    start_time = datetime.datetime.now()\n",
    "\n",
    "    # Construct environment/game from numpy array: maze (see above)\n",
    "    qmaze = TreasureMaze(maze)\n",
    "\n",
    "    # Initialize experience replay object\n",
    "    experience = GameExperience(model, max_memory=max_memory)\n",
    "    \n",
    "    win_history = []   # history of win/lose game\n",
    "    hsize = qmaze.maze.size//2   # history window size\n",
    "    win_rate = 0.0\n",
    "    \n",
    "    for epoch in range(n_epoch):\n",
    "\n",
    "        # Initialize loss and number of episodes\n",
    "\n",
    "        loss = 0.0\n",
    "\n",
    "        n_episodes = 0\n",
    "\n",
    "        # Agent_cell = randomly select a free cell\n",
    "\n",
    "        agent_cell = random.choice(qmaze.free_cells)\n",
    "\n",
    "        # Reset the maze with agent set to above position\n",
    "\n",
    "        qmaze.reset(agent_cell)\n",
    "\n",
    "        # envstate = Environment.current_state\n",
    "\n",
    "        envstate = qmaze.observe()\n",
    "\n",
    "        # While state is not game over:\n",
    "\n",
    "        game_over = False\n",
    "\n",
    "        while not game_over:\n",
    "\n",
    "            # previous_envstate = envstate\n",
    "\n",
    "            previous_envstate = envstate\n",
    "\n",
    "            # Action = randomly choose action (left, right, up, down) either by exploration or by exploitation\n",
    "\n",
    "            if np.random.rand() < epsilon:\n",
    "\n",
    "                # Exploration: choose random action\n",
    "\n",
    "                action = random.choice(range(num_actions))\n",
    "\n",
    "            else:\n",
    "\n",
    "                # Exploitation: choose best action based on Q-values\n",
    "\n",
    "                q = model.predict(previous_envstate)\n",
    "\n",
    "                action = np.argmax(q[0])\n",
    "\n",
    "            # performs the chosen action in the environment and receives the new state, reward, and game status\n",
    "\n",
    "            envstate, reward, game_status = qmaze.act(action)\n",
    "\n",
    "            # creates an experience tuple containing the previous state, action taken, reward received, new state, and game status\n",
    "\n",
    "            episode = [previous_envstate, action, reward, envstate, game_status]\n",
    "\n",
    "            # Store episode in Experience replay object\n",
    "\n",
    "            experience.remember(episode)\n",
    "\n",
    "            # Train neural network model and evaluate loss\n",
    "\n",
    "            inputs, targets = experience.get_data(data_size=data_size)\n",
    "\n",
    "            # You can call model.evaluate to determine loss.\n",
    "\n",
    "            model.fit(inputs, targets, epochs=8, batch_size=16, verbose=0)\n",
    "\n",
    "            loss = model.evaluate(inputs, targets, verbose=0)\n",
    "\n",
    "            # If the win rate is above the threshold and your model passes the completion check, that would be your epoch.\n",
    "\n",
    "            if game_status == 'win' or game_status == 'lose':\n",
    "\n",
    "                game_over = True\n",
    "\n",
    "            else:\n",
    "\n",
    "                game_over = False\n",
    "\n",
    "            n_episodes += 1\n",
    "\n",
    "        # Update win history\n",
    "\n",
    "        win_history.append(1 if game_status == 'win' else 0)\n",
    "\n",
    "        win_rate = sum(win_history[-hsize:]) / hsize if len(win_history) >= hsize else 0.0\n",
    "\n",
    "    #Print the epoch, loss, episodes, win count, and win rate for each epoch\n",
    "        dt = datetime.datetime.now() - start_time\n",
    "        t = format_time(dt.total_seconds())\n",
    "        template = \"Epoch: {:03d}/{:d} | Loss: {:.4f} | Episodes: {:d} | Win count: {:d} | Win rate: {:.3f} | time: {}\"\n",
    "        print(template.format(epoch, n_epoch-1, loss, n_episodes, sum(win_history), win_rate, t))\n",
    "        # We simply check if training has exhausted all free cells and if in all\n",
    "        # cases the agent won.\n",
    "        if win_rate > 0.9 : epsilon = 0.05\n",
    "        if sum(win_history[-hsize:]) == hsize and completion_check(model, qmaze):\n",
    "            print(\"Reached 100%% win rate at epoch: %d\" % (epoch,))\n",
    "            break\n",
    "    \n",
    "    \n",
    "    # Determine the total time for training\n",
    "    dt = datetime.datetime.now() - start_time\n",
    "    seconds = dt.total_seconds()\n",
    "    t = format_time(seconds)\n",
    "\n",
    "    print(\"n_epoch: %d, max_mem: %d, data: %d, time: %s\" % (epoch, max_memory, data_size, t))\n",
    "    return seconds\n",
    "\n",
    "# This is a small utility for printing readable time strings:\n",
    "def format_time(seconds):\n",
    "    if seconds < 400:\n",
    "        s = float(seconds)\n",
    "        return \"%.1f seconds\" % (s,)\n",
    "    elif seconds < 4000:\n",
    "        m = seconds / 60.0\n",
    "        return \"%.2f minutes\" % (m,)\n",
    "    else:\n",
    "        h = seconds / 3600.0\n",
    "        return \"%.2f hours\" % (h,)"
   ]
  },
  {
   "cell_type": "markdown",
   "metadata": {},
   "source": [
    "## Test Your Model\n",
    "\n",
    "Now we will start testing the deep Q-learning implementation. To begin, select **Cell**, then **Run All** from the menu bar. This will run your notebook. As it runs, you should see output begin to appear beneath the next few cells. The code below creates an instance of TreasureMaze."
   ]
  },
  {
   "cell_type": "code",
   "execution_count": 12,
   "metadata": {},
   "outputs": [
    {
     "data": {
      "text/plain": [
       "<matplotlib.image.AxesImage at 0x2b62815bdc8>"
      ]
     },
     "execution_count": 12,
     "metadata": {},
     "output_type": "execute_result"
    },
    {
     "data": {
      "image/png": "[encoded data removed]",
      "text/plain": [
       "<Figure size 432x288 with 1 Axes>"
      ]
     },
     "metadata": {
      "needs_background": "light"
     },
     "output_type": "display_data"
    }
   ],
   "source": [
    "qmaze = TreasureMaze(maze)\n",
    "show(qmaze)"
   ]
  },
  {
   "cell_type": "markdown",
   "metadata": {},
   "source": [
    "In the next code block, you will build your model and train it using deep Q-learning. Note: This step takes several minutes to fully run."
   ]
  },
  {
   "cell_type": "code",
   "execution_count": 13,
   "metadata": {},
   "outputs": [
    {
     "name": "stdout",
     "output_type": "stream",
     "text": [
      "Epoch: 000/14999 | Loss: 0.0001 | Episodes: 134 | Win count: 0 | Win rate: 0.000 | time: 18.2 seconds\n",
      "Epoch: 001/14999 | Loss: 0.0007 | Episodes: 136 | Win count: 0 | Win rate: 0.000 | time: 37.5 seconds\n",
      "Epoch: 002/14999 | Loss: 0.0004 | Episodes: 22 | Win count: 1 | Win rate: 0.000 | time: 40.4 seconds\n",
      "Epoch: 003/14999 | Loss: 0.0004 | Episodes: 139 | Win count: 1 | Win rate: 0.000 | time: 60.4 seconds\n",
      "Epoch: 004/14999 | Loss: 0.0014 | Episodes: 143 | Win count: 1 | Win rate: 0.000 | time: 81.1 seconds\n",
      "Epoch: 005/14999 | Loss: 0.0009 | Episodes: 133 | Win count: 1 | Win rate: 0.000 | time: 99.9 seconds\n",
      "Epoch: 006/14999 | Loss: 0.0005 | Episodes: 147 | Win count: 1 | Win rate: 0.000 | time: 121.5 seconds\n",
      "Epoch: 007/14999 | Loss: 0.0003 | Episodes: 2 | Win count: 2 | Win rate: 0.000 | time: 121.7 seconds\n",
      "Epoch: 008/14999 | Loss: 0.0003 | Episodes: 145 | Win count: 2 | Win rate: 0.000 | time: 142.2 seconds\n",
      "Epoch: 009/14999 | Loss: 0.0003 | Episodes: 150 | Win count: 2 | Win rate: 0.000 | time: 164.3 seconds\n",
      "Epoch: 010/14999 | Loss: 0.0007 | Episodes: 146 | Win count: 2 | Win rate: 0.000 | time: 186.6 seconds\n",
      "Epoch: 011/14999 | Loss: 0.0006 | Episodes: 153 | Win count: 2 | Win rate: 0.000 | time: 210.1 seconds\n",
      "Epoch: 012/14999 | Loss: 0.0002 | Episodes: 149 | Win count: 2 | Win rate: 0.000 | time: 231.5 seconds\n",
      "Epoch: 013/14999 | Loss: 0.0004 | Episodes: 145 | Win count: 2 | Win rate: 0.000 | time: 251.5 seconds\n",
      "Epoch: 014/14999 | Loss: 0.0006 | Episodes: 137 | Win count: 2 | Win rate: 0.000 | time: 272.5 seconds\n",
      "Epoch: 015/14999 | Loss: 0.0003 | Episodes: 151 | Win count: 2 | Win rate: 0.000 | time: 294.4 seconds\n",
      "Epoch: 016/14999 | Loss: 0.0008 | Episodes: 131 | Win count: 3 | Win rate: 0.000 | time: 313.0 seconds\n",
      "Epoch: 017/14999 | Loss: 0.0006 | Episodes: 3 | Win count: 4 | Win rate: 0.000 | time: 313.4 seconds\n",
      "Epoch: 018/14999 | Loss: 0.0007 | Episodes: 148 | Win count: 4 | Win rate: 0.000 | time: 334.8 seconds\n",
      "Epoch: 019/14999 | Loss: 0.0010 | Episodes: 51 | Win count: 5 | Win rate: 0.000 | time: 342.0 seconds\n",
      "Epoch: 020/14999 | Loss: 0.0006 | Episodes: 59 | Win count: 6 | Win rate: 0.000 | time: 350.1 seconds\n",
      "Epoch: 021/14999 | Loss: 0.0008 | Episodes: 9 | Win count: 7 | Win rate: 0.000 | time: 351.4 seconds\n",
      "Epoch: 022/14999 | Loss: 0.0002 | Episodes: 9 | Win count: 8 | Win rate: 0.000 | time: 352.8 seconds\n",
      "Epoch: 023/14999 | Loss: 0.0005 | Episodes: 26 | Win count: 9 | Win rate: 0.000 | time: 356.4 seconds\n",
      "Epoch: 024/14999 | Loss: 0.0005 | Episodes: 131 | Win count: 10 | Win rate: 0.000 | time: 374.9 seconds\n",
      "Epoch: 025/14999 | Loss: 0.0002 | Episodes: 17 | Win count: 11 | Win rate: 0.000 | time: 377.7 seconds\n",
      "Epoch: 026/14999 | Loss: 0.0004 | Episodes: 18 | Win count: 12 | Win rate: 0.000 | time: 380.3 seconds\n",
      "Epoch: 027/14999 | Loss: 0.0008 | Episodes: 37 | Win count: 13 | Win rate: 0.000 | time: 386.0 seconds\n",
      "Epoch: 028/14999 | Loss: 0.0009 | Episodes: 17 | Win count: 14 | Win rate: 0.000 | time: 388.5 seconds\n",
      "Epoch: 029/14999 | Loss: 0.0003 | Episodes: 27 | Win count: 15 | Win rate: 0.000 | time: 392.3 seconds\n",
      "Epoch: 030/14999 | Loss: 0.0002 | Episodes: 17 | Win count: 16 | Win rate: 0.000 | time: 394.7 seconds\n",
      "Epoch: 031/14999 | Loss: 0.0002 | Episodes: 8 | Win count: 17 | Win rate: 0.531 | time: 396.0 seconds\n",
      "Epoch: 032/14999 | Loss: 0.0006 | Episodes: 32 | Win count: 18 | Win rate: 0.562 | time: 6.68 minutes\n",
      "Epoch: 033/14999 | Loss: 0.0096 | Episodes: 14 | Win count: 19 | Win rate: 0.594 | time: 6.71 minutes\n",
      "Epoch: 034/14999 | Loss: 0.0004 | Episodes: 9 | Win count: 20 | Win rate: 0.594 | time: 6.73 minutes\n",
      "Epoch: 035/14999 | Loss: 0.0007 | Episodes: 87 | Win count: 21 | Win rate: 0.625 | time: 6.94 minutes\n",
      "Epoch: 036/14999 | Loss: 0.0004 | Episodes: 24 | Win count: 22 | Win rate: 0.656 | time: 7.00 minutes\n",
      "Epoch: 037/14999 | Loss: 0.0007 | Episodes: 19 | Win count: 23 | Win rate: 0.688 | time: 7.05 minutes\n",
      "Epoch: 038/14999 | Loss: 0.0002 | Episodes: 11 | Win count: 24 | Win rate: 0.719 | time: 7.08 minutes\n",
      "Epoch: 039/14999 | Loss: 0.0003 | Episodes: 60 | Win count: 25 | Win rate: 0.719 | time: 7.22 minutes\n",
      "Epoch: 040/14999 | Loss: 0.0003 | Episodes: 2 | Win count: 26 | Win rate: 0.750 | time: 7.23 minutes\n",
      "Epoch: 041/14999 | Loss: 0.0012 | Episodes: 86 | Win count: 27 | Win rate: 0.781 | time: 7.43 minutes\n",
      "Epoch: 042/14999 | Loss: 0.0008 | Episodes: 28 | Win count: 28 | Win rate: 0.812 | time: 7.50 minutes\n",
      "Epoch: 043/14999 | Loss: 0.0004 | Episodes: 12 | Win count: 29 | Win rate: 0.844 | time: 7.52 minutes\n",
      "Epoch: 044/14999 | Loss: 0.0004 | Episodes: 22 | Win count: 30 | Win rate: 0.875 | time: 7.57 minutes\n",
      "Epoch: 045/14999 | Loss: 0.0005 | Episodes: 26 | Win count: 31 | Win rate: 0.906 | time: 7.63 minutes\n",
      "Epoch: 046/14999 | Loss: 0.0010 | Episodes: 5 | Win count: 32 | Win rate: 0.938 | time: 7.64 minutes\n",
      "Epoch: 047/14999 | Loss: 0.0009 | Episodes: 24 | Win count: 33 | Win rate: 0.969 | time: 7.70 minutes\n",
      "Epoch: 048/14999 | Loss: 0.0008 | Episodes: 21 | Win count: 34 | Win rate: 0.969 | time: 7.74 minutes\n",
      "Epoch: 049/14999 | Loss: 0.0012 | Episodes: 31 | Win count: 35 | Win rate: 0.969 | time: 7.82 minutes\n",
      "Epoch: 050/14999 | Loss: 0.0006 | Episodes: 17 | Win count: 36 | Win rate: 1.000 | time: 7.86 minutes\n",
      "Epoch: 051/14999 | Loss: 0.0007 | Episodes: 8 | Win count: 37 | Win rate: 1.000 | time: 7.88 minutes\n",
      "Epoch: 052/14999 | Loss: 0.0008 | Episodes: 30 | Win count: 38 | Win rate: 1.000 | time: 7.96 minutes\n",
      "Epoch: 053/14999 | Loss: 0.0005 | Episodes: 33 | Win count: 39 | Win rate: 1.000 | time: 8.04 minutes\n",
      "Epoch: 054/14999 | Loss: 0.0010 | Episodes: 17 | Win count: 40 | Win rate: 1.000 | time: 8.09 minutes\n",
      "Epoch: 055/14999 | Loss: 0.0004 | Episodes: 43 | Win count: 41 | Win rate: 1.000 | time: 8.20 minutes\n",
      "Epoch: 056/14999 | Loss: 0.0003 | Episodes: 17 | Win count: 42 | Win rate: 1.000 | time: 8.24 minutes\n",
      "Epoch: 057/14999 | Loss: 0.0008 | Episodes: 45 | Win count: 43 | Win rate: 1.000 | time: 8.36 minutes\n",
      "Epoch: 058/14999 | Loss: 0.0005 | Episodes: 28 | Win count: 44 | Win rate: 1.000 | time: 8.43 minutes\n",
      "Epoch: 059/14999 | Loss: 0.0002 | Episodes: 31 | Win count: 45 | Win rate: 1.000 | time: 8.50 minutes\n",
      "Epoch: 060/14999 | Loss: 0.0004 | Episodes: 10 | Win count: 46 | Win rate: 1.000 | time: 8.54 minutes\n",
      "Epoch: 061/14999 | Loss: 0.0001 | Episodes: 25 | Win count: 47 | Win rate: 1.000 | time: 8.61 minutes\n",
      "Epoch: 062/14999 | Loss: 0.0003 | Episodes: 38 | Win count: 48 | Win rate: 1.000 | time: 8.71 minutes\n",
      "Epoch: 063/14999 | Loss: 0.0003 | Episodes: 25 | Win count: 49 | Win rate: 1.000 | time: 8.77 minutes\n",
      "Epoch: 064/14999 | Loss: 0.0004 | Episodes: 19 | Win count: 50 | Win rate: 1.000 | time: 8.83 minutes\n",
      "Epoch: 065/14999 | Loss: 0.0008 | Episodes: 17 | Win count: 51 | Win rate: 1.000 | time: 8.89 minutes\n",
      "Epoch: 066/14999 | Loss: 0.0003 | Episodes: 29 | Win count: 52 | Win rate: 1.000 | time: 8.96 minutes\n",
      "Epoch: 067/14999 | Loss: 0.0002 | Episodes: 9 | Win count: 53 | Win rate: 1.000 | time: 8.98 minutes\n",
      "Epoch: 068/14999 | Loss: 0.0003 | Episodes: 42 | Win count: 54 | Win rate: 1.000 | time: 9.10 minutes\n",
      "Epoch: 069/14999 | Loss: 0.0002 | Episodes: 7 | Win count: 55 | Win rate: 1.000 | time: 9.13 minutes\n",
      "Epoch: 070/14999 | Loss: 0.0003 | Episodes: 33 | Win count: 56 | Win rate: 1.000 | time: 9.23 minutes\n",
      "Epoch: 071/14999 | Loss: 0.0003 | Episodes: 29 | Win count: 57 | Win rate: 1.000 | time: 9.31 minutes\n",
      "Epoch: 072/14999 | Loss: 0.0012 | Episodes: 8 | Win count: 58 | Win rate: 1.000 | time: 9.34 minutes\n",
      "Epoch: 073/14999 | Loss: 0.0002 | Episodes: 5 | Win count: 59 | Win rate: 1.000 | time: 9.35 minutes\n",
      "Epoch: 074/14999 | Loss: 0.0004 | Episodes: 37 | Win count: 60 | Win rate: 1.000 | time: 9.44 minutes\n",
      "Epoch: 075/14999 | Loss: 0.0004 | Episodes: 15 | Win count: 61 | Win rate: 1.000 | time: 9.49 minutes\n",
      "Epoch: 076/14999 | Loss: 0.0004 | Episodes: 8 | Win count: 62 | Win rate: 1.000 | time: 9.51 minutes\n",
      "Epoch: 077/14999 | Loss: 0.0001 | Episodes: 12 | Win count: 63 | Win rate: 1.000 | time: 9.55 minutes\n",
      "Epoch: 078/14999 | Loss: 0.0002 | Episodes: 29 | Win count: 64 | Win rate: 1.000 | time: 9.62 minutes\n",
      "Epoch: 079/14999 | Loss: 0.0002 | Episodes: 26 | Win count: 65 | Win rate: 1.000 | time: 9.69 minutes\n",
      "Epoch: 080/14999 | Loss: 0.0000 | Episodes: 5 | Win count: 66 | Win rate: 1.000 | time: 9.71 minutes\n",
      "Epoch: 081/14999 | Loss: 0.0009 | Episodes: 31 | Win count: 67 | Win rate: 1.000 | time: 9.79 minutes\n",
      "Epoch: 082/14999 | Loss: 0.0004 | Episodes: 2 | Win count: 68 | Win rate: 1.000 | time: 9.80 minutes\n",
      "Epoch: 083/14999 | Loss: 0.0001 | Episodes: 2 | Win count: 69 | Win rate: 1.000 | time: 9.81 minutes\n",
      "Epoch: 084/14999 | Loss: 0.0002 | Episodes: 19 | Win count: 70 | Win rate: 1.000 | time: 9.87 minutes\n",
      "Epoch: 085/14999 | Loss: 0.0000 | Episodes: 8 | Win count: 71 | Win rate: 1.000 | time: 9.89 minutes\n",
      "Epoch: 086/14999 | Loss: 0.0009 | Episodes: 21 | Win count: 72 | Win rate: 1.000 | time: 9.94 minutes\n",
      "Epoch: 087/14999 | Loss: 0.0000 | Episodes: 4 | Win count: 73 | Win rate: 1.000 | time: 9.95 minutes\n",
      "Epoch: 088/14999 | Loss: 0.0004 | Episodes: 30 | Win count: 74 | Win rate: 1.000 | time: 10.03 minutes\n",
      "Epoch: 089/14999 | Loss: 0.0000 | Episodes: 12 | Win count: 75 | Win rate: 1.000 | time: 10.06 minutes\n",
      "Epoch: 090/14999 | Loss: 0.0001 | Episodes: 20 | Win count: 76 | Win rate: 1.000 | time: 10.11 minutes\n",
      "Epoch: 091/14999 | Loss: 0.0003 | Episodes: 22 | Win count: 77 | Win rate: 1.000 | time: 10.18 minutes\n",
      "Epoch: 092/14999 | Loss: 0.0002 | Episodes: 30 | Win count: 78 | Win rate: 1.000 | time: 10.27 minutes\n",
      "Epoch: 093/14999 | Loss: 0.0002 | Episodes: 31 | Win count: 79 | Win rate: 1.000 | time: 10.36 minutes\n",
      "Epoch: 094/14999 | Loss: 0.0002 | Episodes: 1 | Win count: 80 | Win rate: 1.000 | time: 10.37 minutes\n",
      "Epoch: 095/14999 | Loss: 0.0001 | Episodes: 25 | Win count: 81 | Win rate: 1.000 | time: 10.44 minutes\n",
      "Epoch: 096/14999 | Loss: 0.0003 | Episodes: 4 | Win count: 82 | Win rate: 1.000 | time: 10.45 minutes\n",
      "Epoch: 097/14999 | Loss: 0.0002 | Episodes: 8 | Win count: 83 | Win rate: 1.000 | time: 10.48 minutes\n",
      "Epoch: 098/14999 | Loss: 0.0000 | Episodes: 1 | Win count: 84 | Win rate: 1.000 | time: 10.49 minutes\n",
      "Epoch: 099/14999 | Loss: 0.0006 | Episodes: 28 | Win count: 85 | Win rate: 1.000 | time: 10.57 minutes\n",
      "Epoch: 100/14999 | Loss: 0.0000 | Episodes: 12 | Win count: 86 | Win rate: 1.000 | time: 10.60 minutes\n",
      "Epoch: 101/14999 | Loss: 0.0003 | Episodes: 14 | Win count: 87 | Win rate: 1.000 | time: 10.63 minutes\n",
      "Epoch: 102/14999 | Loss: 0.0001 | Episodes: 18 | Win count: 88 | Win rate: 1.000 | time: 10.68 minutes\n",
      "Epoch: 103/14999 | Loss: 0.0000 | Episodes: 25 | Win count: 89 | Win rate: 1.000 | time: 10.74 minutes\n",
      "Epoch: 104/14999 | Loss: 0.0000 | Episodes: 4 | Win count: 90 | Win rate: 1.000 | time: 10.75 minutes\n",
      "Epoch: 105/14999 | Loss: 0.0004 | Episodes: 30 | Win count: 91 | Win rate: 1.000 | time: 10.84 minutes\n",
      "Epoch: 106/14999 | Loss: 0.0001 | Episodes: 22 | Win count: 92 | Win rate: 1.000 | time: 10.89 minutes\n",
      "Epoch: 107/14999 | Loss: 0.0005 | Episodes: 2 | Win count: 93 | Win rate: 1.000 | time: 10.90 minutes\n",
      "Epoch: 108/14999 | Loss: 0.0005 | Episodes: 2 | Win count: 94 | Win rate: 1.000 | time: 10.91 minutes\n",
      "Epoch: 109/14999 | Loss: 0.0000 | Episodes: 24 | Win count: 95 | Win rate: 1.000 | time: 10.97 minutes\n",
      "Epoch: 110/14999 | Loss: 0.0000 | Episodes: 37 | Win count: 96 | Win rate: 1.000 | time: 11.06 minutes\n",
      "Epoch: 111/14999 | Loss: 0.0004 | Episodes: 14 | Win count: 97 | Win rate: 1.000 | time: 11.10 minutes\n",
      "Epoch: 112/14999 | Loss: 0.0002 | Episodes: 30 | Win count: 98 | Win rate: 1.000 | time: 11.17 minutes\n",
      "Epoch: 113/14999 | Loss: 0.0004 | Episodes: 25 | Win count: 99 | Win rate: 1.000 | time: 11.24 minutes\n",
      "Epoch: 114/14999 | Loss: 0.0000 | Episodes: 3 | Win count: 100 | Win rate: 1.000 | time: 11.25 minutes\n",
      "Epoch: 115/14999 | Loss: 0.0003 | Episodes: 22 | Win count: 101 | Win rate: 1.000 | time: 11.30 minutes\n",
      "Epoch: 116/14999 | Loss: 0.0002 | Episodes: 2 | Win count: 102 | Win rate: 1.000 | time: 11.31 minutes\n",
      "Epoch: 117/14999 | Loss: 0.0003 | Episodes: 26 | Win count: 103 | Win rate: 1.000 | time: 11.39 minutes\n",
      "Epoch: 118/14999 | Loss: 0.0004 | Episodes: 20 | Win count: 104 | Win rate: 1.000 | time: 11.44 minutes\n",
      "Epoch: 119/14999 | Loss: 0.0001 | Episodes: 42 | Win count: 105 | Win rate: 1.000 | time: 11.54 minutes\n",
      "Epoch: 120/14999 | Loss: 0.0003 | Episodes: 29 | Win count: 106 | Win rate: 1.000 | time: 11.62 minutes\n",
      "Epoch: 121/14999 | Loss: 0.0001 | Episodes: 17 | Win count: 107 | Win rate: 1.000 | time: 11.66 minutes\n",
      "Epoch: 122/14999 | Loss: 0.0002 | Episodes: 8 | Win count: 108 | Win rate: 1.000 | time: 11.68 minutes\n",
      "Epoch: 123/14999 | Loss: 0.0002 | Episodes: 52 | Win count: 109 | Win rate: 1.000 | time: 11.82 minutes\n",
      "Epoch: 124/14999 | Loss: 0.0002 | Episodes: 7 | Win count: 110 | Win rate: 1.000 | time: 11.84 minutes\n",
      "Epoch: 125/14999 | Loss: 0.0002 | Episodes: 4 | Win count: 111 | Win rate: 1.000 | time: 11.85 minutes\n",
      "Epoch: 126/14999 | Loss: 0.0001 | Episodes: 19 | Win count: 112 | Win rate: 1.000 | time: 11.91 minutes\n",
      "Epoch: 127/14999 | Loss: 0.0003 | Episodes: 20 | Win count: 113 | Win rate: 1.000 | time: 11.96 minutes\n",
      "Reached 100% win rate at epoch: 127\n",
      "n_epoch: 127, max_mem: 512, data: 32, time: 11.97 minutes\n"
     ]
    },
    {
     "data": {
      "text/plain": [
       "718.485162"
      ]
     },
     "execution_count": 13,
     "metadata": {},
     "output_type": "execute_result"
    }
   ],
   "source": [
    "model = build_model(maze)\n",
    "qtrain(model, maze, epochs=1000, max_memory=8*maze.size, data_size=32)"
   ]
  },
  {
   "cell_type": "markdown",
   "metadata": {},
   "source": [
    "This cell will check to see if the model passes the completion check. Note: This could take several minutes."
   ]
  },
  {
   "cell_type": "code",
   "execution_count": 17,
   "metadata": {},
   "outputs": [
    {
     "data": {
      "text/plain": [
       "<matplotlib.image.AxesImage at 0x2b62ec41908>"
      ]
     },
     "execution_count": 17,
     "metadata": {},
     "output_type": "execute_result"
    },
    {
     "data": {
      "image/png": "[encoded data removed]",
      "text/plain": [
       "<Figure size 432x288 with 1 Axes>"
      ]
     },
     "metadata": {
      "needs_background": "light"
     },
     "output_type": "display_data"
    }
   ],
   "source": [
    "completion_check(model, qmaze)\n",
    "show(qmaze)"
   ]
  },
  {
   "cell_type": "markdown",
   "metadata": {},
   "source": [
    "This cell will test your model for one game. It will start the pirate at the top-left corner and run play_game. The agent should find a path from the starting position to the target (treasure). The treasure is located in the bottom-right corner."
   ]
  },
  {
   "cell_type": "code",
   "execution_count": 15,
   "metadata": {},
   "outputs": [
    {
     "data": {
      "text/plain": [
       "<matplotlib.image.AxesImage at 0x2b62eb6b788>"
      ]
     },
     "execution_count": 15,
     "metadata": {},
     "output_type": "execute_result"
    },
    {
     "data": {
      "image/png": "[encoded data removed]",
      "text/plain": [
       "<Figure size 432x288 with 1 Axes>"
      ]
     },
     "metadata": {
      "needs_background": "light"
     },
     "output_type": "display_data"
    }
   ],
   "source": [
    "pirate_start = (0, 0)\n",
    "play_game(model, qmaze, pirate_start)\n",
    "show(qmaze)"
   ]
  },
  {
   "cell_type": "markdown",
   "metadata": {},
   "source": [
    "## Save and Submit Your Work\n",
    "After you have finished creating the code for your notebook, save your work. Make sure that your notebook contains your name in the filename (e.g. Doe_Jane_ProjectTwo.ipynb). This will help your instructor access and grade your work easily. Download a copy of your IPYNB file and submit it to Brightspace. Refer to the Jupyter Notebook in Apporto Tutorial if you need help with these tasks."
   ]
  },
  {
   "cell_type": "code",
   "execution_count": null,
   "metadata": {},
   "outputs": [],
   "source": []
  }
 ],
 "metadata": {
  "kernelspec": {
   "display_name": "Python 3",
   "language": "python",
   "name": "python3"
  },
  "language_info": {
   "codemirror_mode": {
    "name": "ipython",
    "version": 3
   },
   "file_extension": ".py",
   "mimetype": "text/x-python",
   "name": "python",
   "nbconvert_exporter": "python",
   "pygments_lexer": "ipython3",
   "version": "3.7.4"
  }
 },
 "nbformat": 4,
 "nbformat_minor": 2
}
